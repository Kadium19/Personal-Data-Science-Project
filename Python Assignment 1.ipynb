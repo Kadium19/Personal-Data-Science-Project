{
 "cells": [
  {
   "cell_type": "markdown",
   "metadata": {},
   "source": [
    "# Python Assigment"
   ]
  },
  {
   "cell_type": "code",
   "execution_count": 104,
   "metadata": {},
   "outputs": [
    {
     "name": "stdout",
     "output_type": "stream",
     "text": [
      "Welcome to Python World\n"
     ]
    }
   ],
   "source": [
    "#1. Simple Message: Store a message in a variable, and then print that message\n",
    "a = \"Welcome to Python World\"\n",
    "print(a)"
   ]
  },
  {
   "cell_type": "code",
   "execution_count": 6,
   "metadata": {},
   "outputs": [
    {
     "name": "stdout",
     "output_type": "stream",
     "text": [
      "Python is a programming language\n"
     ]
    }
   ],
   "source": [
    "#2. Store a message in a variable and print that message. Then change the value of your variable to a new message and print the new message.\n",
    "b = \"Python is a programming language\"\n",
    "print(b)"
   ]
  },
  {
   "cell_type": "code",
   "execution_count": 7,
   "metadata": {},
   "outputs": [
    {
     "name": "stdout",
     "output_type": "stream",
     "text": [
      "Python can be used on a server to create web applications\n"
     ]
    }
   ],
   "source": [
    "b = \"Python can be used on a server to create web applications\"\n",
    "print (b)"
   ]
  },
  {
   "cell_type": "code",
   "execution_count": 106,
   "metadata": {},
   "outputs": [
    {
     "name": "stdout",
     "output_type": "stream",
     "text": [
      "\"Hello Eric, would you like to learn some Python today?\"\n"
     ]
    }
   ],
   "source": [
    "# 3. Store a person’s name in a variable and print a message to that person. Your message should be simple, \n",
    "# such as, “Hello Eric, would you like to learn some Python today?”\n",
    "c = '\"Hello Eric'\n",
    "print (c + \", \" + 'would you like to learn some Python today?\"')"
   ]
  },
  {
   "cell_type": "code",
   "execution_count": 78,
   "metadata": {},
   "outputs": [
    {
     "name": "stdout",
     "output_type": "stream",
     "text": [
      "\"If you can't feed a hundred people, then feed just one.\"\n",
      " -Mother Teresa\n"
     ]
    }
   ],
   "source": [
    "# 4. Find a quote from a famous person you admire. Print the quote and the name of its author. Your output should look something like the following, including the quotation marks: Albert Einstein once said, “A person who never made a mistake never tried anything new.”\n",
    "k = '\"If you can' \"'\" 't feed a hundred people, then feed just one.\"\\n -Mother Teresa'\n",
    "print (k)\n"
   ]
  },
  {
   "cell_type": "code",
   "execution_count": 100,
   "metadata": {},
   "outputs": [
    {
     "name": "stdout",
     "output_type": "stream",
     "text": [
      "\"If you can't feed a hundred people, then feed just one.\"\n",
      "          -Mother Teresa\n"
     ]
    }
   ],
   "source": [
    "# 5. Repeat Exercise 4, but this time store the famous person’s name in a variable called famous_person. Then compose your message and store it in a new variable called message. Print your message.\n",
    "famous_person =\"          \" \"-Mother Teresa\"\n",
    "message = '\"If you can' \"'\" 't feed a hundred people, then feed just one.\"'\n",
    "print (message)\n",
    "print (famous_person)\n"
   ]
  },
  {
   "cell_type": "code",
   "execution_count": 101,
   "metadata": {},
   "outputs": [
    {
     "name": "stdout",
     "output_type": "stream",
     "text": [
      "8\n",
      "8\n",
      "8\n",
      "8\n"
     ]
    }
   ],
   "source": [
    "# 6. Write addition, subtraction, multiplication, and division operations that each result in the number 8. Be sure to enclose your operations in print statements to see the results. You should create four lines that look like this: print (5 + 3)\n",
    "#Your output should simply be four lines with the number 8 appearing once on each line.\n",
    "print (5+3)\n",
    "print (10-2)\n",
    "print (4*2)\n",
    "print (round((16/2)))"
   ]
  },
  {
   "cell_type": "code",
   "execution_count": 102,
   "metadata": {},
   "outputs": [
    {
     "name": "stdout",
     "output_type": "stream",
     "text": [
      "my secret number is: 9\n"
     ]
    }
   ],
   "source": [
    "# 7. Store your favourite number in a variable. Then, using that variable, create a message that reveals your favourite number. Print that message.\n",
    "s = 9\n",
    "print (\"my secret number is:\", s)"
   ]
  },
  {
   "cell_type": "code",
   "execution_count": 110,
   "metadata": {},
   "outputs": [
    {
     "name": "stdout",
     "output_type": "stream",
     "text": [
      "\"If you can't feed a hundred people, then feed just one.\"\n",
      " -Mother Teresa\n"
     ]
    }
   ],
   "source": [
    "#8 .Choose two of the programs you’ve written and add at least one comment to each. \n",
    "#If you don’t have anything specific to write because your programs are too simple at this point, \n",
    "#just add your name and the current date at the top of each program file. \n",
    "#Then write one sentence describing what the program does.\n",
    "\n",
    "k = '\"If you can' \"'\" 't feed a hundred people, then feed just one.\"\\n -Mother Teresa' # To display an Apostrophe in can't \n",
    "# we use in between the double quotes and by closing the sentences before and after. \n",
    "print (k)"
   ]
  },
  {
   "cell_type": "code",
   "execution_count": 111,
   "metadata": {},
   "outputs": [
    {
     "name": "stdout",
     "output_type": "stream",
     "text": [
      "8\n",
      "8\n",
      "8\n",
      "8\n"
     ]
    }
   ],
   "source": [
    "# 8. \n",
    "print (5+3)\n",
    "print (10-2)\n",
    "print (4*2)\n",
    "print (round((16/2))) # to round the decimal value , we use round "
   ]
  },
  {
   "cell_type": "code",
   "execution_count": 119,
   "metadata": {},
   "outputs": [
    {
     "name": "stdout",
     "output_type": "stream",
     "text": [
      "('Sachin', 'Dravid', 'Ganguly', 'Sehwag')\n"
     ]
    },
    {
     "data": {
      "text/plain": [
       "4"
      ]
     },
     "execution_count": 119,
     "metadata": {},
     "output_type": "execute_result"
    }
   ],
   "source": [
    "#9 .Store the names of a few of your friends in a list called names. \n",
    "#Print each person’s name by accessing each element in the list, one at a time.\n",
    "names = \"Sachin\",\"Dravid\",\"Ganguly\",\"Sehwag\"\n",
    "print (names)\n",
    "len(names)\n"
   ]
  },
  {
   "cell_type": "code",
   "execution_count": 141,
   "metadata": {
    "scrolled": true
   },
   "outputs": [
    {
     "name": "stdout",
     "output_type": "stream",
     "text": [
      "Sachin\n",
      "Dravid\n",
      "Ganguly\n",
      "Sehwag\n"
     ]
    }
   ],
   "source": [
    "print (names[0])\n",
    "print (names[1])\n",
    "print (names[2])\n",
    "print (names[3])\n"
   ]
  },
  {
   "cell_type": "code",
   "execution_count": 138,
   "metadata": {},
   "outputs": [
    {
     "name": "stdout",
     "output_type": "stream",
     "text": [
      "Sachin You have done a best job today\n",
      "Dravid You have done a best job today\n",
      "Ganguly You have done a best job today\n",
      "Sehwag You have done a best job today\n"
     ]
    }
   ],
   "source": [
    "#10 .Start with the list you used in Exercise 9, but instead of just printing each person’s name, \n",
    "#print a message to them. The text of each message should be the same, \n",
    "#but each message should be personalized with the person’s name.\n",
    "names = \"Sachin\",\"Dravid\",\"Ganguly\",\"Sehwag\"\n",
    "len(names)\n",
    "print (names[0],\"You have done a best job today\")\n",
    "print (names[1],\"You have done a best job today\")\n",
    "print (names[2],\"You have done a best job today\")\n",
    "print (names[3],\"You have done a best job today\")"
   ]
  },
  {
   "cell_type": "code",
   "execution_count": 170,
   "metadata": {},
   "outputs": [
    {
     "name": "stdout",
     "output_type": "stream",
     "text": [
      "My favourite Car is Range Rover, which I like the most beacause of its attractive feature and designs. The upcoming model was mind blowing .\n"
     ]
    }
   ],
   "source": [
    "#11. Think of your favourite mode of transportation, such as a motorcycle or a car,\n",
    "#and make a list that stores several examples. Use your list to print a series of statements about these items, \n",
    "#such as “I would like to own a Honda motorcycle.”\n",
    "statement = \"Car\",\"which I like the most\", \"attractive feature and designs.\", \"mind blowing\"\n",
    "print (\"My favourite\", statement[0], \"is Range Rover,\", statement[1], \"beacause of its\", statement[2],\"The upcoming model was\", statement[3],\".\")"
   ]
  },
  {
   "cell_type": "code",
   "execution_count": null,
   "metadata": {},
   "outputs": [],
   "source": []
  }
 ],
 "metadata": {
  "kernelspec": {
   "display_name": "Python 3",
   "language": "python",
   "name": "python3"
  },
  "language_info": {
   "codemirror_mode": {
    "name": "ipython",
    "version": 3
   },
   "file_extension": ".py",
   "mimetype": "text/x-python",
   "name": "python",
   "nbconvert_exporter": "python",
   "pygments_lexer": "ipython3",
   "version": "3.8.5"
  }
 },
 "nbformat": 4,
 "nbformat_minor": 4
}
